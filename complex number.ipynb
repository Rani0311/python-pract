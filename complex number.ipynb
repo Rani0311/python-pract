{
 "cells": [
  {
   "cell_type": "code",
   "execution_count": null,
   "metadata": {},
   "outputs": [],
   "source": [
    "class Complex:\n",
    "    def __init__ (self,r,o):\n",
    "        self.real=r\n",
    "        self.imaginary=o\n",
    "    def comp(self):\n",
    "        return complex(r+o) \n",
    "r=int(input(\"Enter real number:\"))\n",
    "o=int(input(\"Enter imaginary number:\"))        \n",
    "complex_no=Complex(r,o)\n",
    "complex_no.comp()\n",
    "print(\"complex number is:\",complex_no.comp())\n"
   ]
  }
 ],
 "metadata": {
  "kernelspec": {
   "display_name": "Python 3.9.1 64-bit",
   "language": "python",
   "name": "python3"
  },
  "language_info": {
   "name": "python",
   "version": "3.9.1"
  },
  "orig_nbformat": 4,
  "vscode": {
   "interpreter": {
    "hash": "11938c6bc6919ae2720b4d5011047913343b08a43b18698fd82dedb0d4417594"
   }
  }
 },
 "nbformat": 4,
 "nbformat_minor": 2
}
